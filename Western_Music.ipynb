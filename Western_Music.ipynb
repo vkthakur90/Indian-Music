{
  "nbformat": 4,
  "nbformat_minor": 0,
  "metadata": {
    "colab": {
      "provenance": [],
      "authorship_tag": "ABX9TyMDEpL4URN/5OIKUGZQatTv",
      "include_colab_link": true
    },
    "kernelspec": {
      "name": "python3",
      "display_name": "Python 3"
    },
    "language_info": {
      "name": "python"
    }
  },
  "cells": [
    {
      "cell_type": "markdown",
      "metadata": {
        "id": "view-in-github",
        "colab_type": "text"
      },
      "source": [
        "<a href=\"https://colab.research.google.com/github/vkthakur90/Indian-Music/blob/main/Western_Music.ipynb\" target=\"_parent\"><img src=\"https://colab.research.google.com/assets/colab-badge.svg\" alt=\"Open In Colab\"/></a>"
      ]
    },
    {
      "cell_type": "code",
      "execution_count": 1,
      "metadata": {
        "id": "-LJOHc9_DfJE"
      },
      "outputs": [],
      "source": [
        "%matplotlib inline"
      ]
    },
    {
      "cell_type": "code",
      "source": [
        "import numpy as np\n",
        "import pandas as pd\n",
        "import seaborn as sns\n",
        "import google.colab.files as gcf"
      ],
      "metadata": {
        "id": "BQz8AE5QDvG7"
      },
      "execution_count": 2,
      "outputs": []
    },
    {
      "cell_type": "code",
      "source": [
        "TEMPO = 60 #beats_per_second\n",
        "\n",
        "BASE_FREQ = 440 * 2 ** (-9/12) #Hertz\n",
        "PI = np.pi"
      ],
      "metadata": {
        "id": "XBVLeRPiEHri"
      },
      "execution_count": 3,
      "outputs": []
    },
    {
      "cell_type": "code",
      "source": [
        "melody = [\n",
        "    ('quaver', 'C'),\n",
        "    ('quaver', 'D'),\n",
        "    ('quaver', 'E'),\n",
        "    ('quaver', 'F'),\n",
        "    ('quaver', 'G'),\n",
        "    ('quaver', 'A'),\n",
        "    ('quaver', 'B')\n",
        "]"
      ],
      "metadata": {
        "id": "qtP4oO7mgXyV"
      },
      "execution_count": 4,
      "outputs": []
    },
    {
      "cell_type": "code",
      "source": [
        "octaves_df = pd.DataFrame({\n",
        "    'notes' : ['C', 'CS', 'D', 'DS', 'E', 'F', 'FS', 'G', 'GS', 'A', 'AS', 'B'],\n",
        "    'cents' : 100 * np.arange(12)\n",
        "})"
      ],
      "metadata": {
        "id": "mruS3uttELna"
      },
      "execution_count": 5,
      "outputs": []
    },
    {
      "cell_type": "code",
      "source": [
        "octaves_df.eval('freq = @BASE_FREQ * 2 ** (cents/1200)', inplace = True)"
      ],
      "metadata": {
        "id": "na8Iu2BmEv_r"
      },
      "execution_count": 6,
      "outputs": []
    },
    {
      "cell_type": "code",
      "source": [
        "notes_df = pd.DataFrame({'n': np.arange(44100 * 4)})\n",
        "\n",
        "notes_df.eval('t = n/44100', inplace = True)\n",
        "notes_df.eval('beats = (@TEMPO * t / 60)', inplace = True)\n",
        "\n",
        "notes_df.eval('N = floor(2 * beats) + 1', inplace = True)\n",
        "notes_df.eval('amp = (beats) * exp(-0.5 * (beats)**2)', inplace = True)\n",
        "\n",
        "minim_notes_df = notes_df.copy()\n",
        "minim_notes_df.eval('amp =  (2 * beats) * exp(-0.5 * (2 * beats)**2)', inplace = True)\n",
        "minim_notes_df = minim_notes_df.query('N <= 4')\n",
        "\n",
        "crotchet_notes_df = notes_df.copy()\n",
        "crotchet_notes_df.eval('amp =  (4 * beats) * exp(-0.5 * (4 * beats)**2)', inplace = True)\n",
        "crotchet_notes_df = crotchet_notes_df.query('N <= 2')\n",
        "\n",
        "quaver_notes_df = notes_df.copy()\n",
        "quaver_notes_df.eval('amp =  (8 * beats) * exp(-0.5 * (8 * beats)**2)', inplace = True)\n",
        "quaver_notes_df = quaver_notes_df.query('N <= 1')\n",
        "\n",
        "for beat_df in [notes_df, minim_notes_df, crotchet_notes_df, quaver_notes_df]:\n",
        "    for freq, notes in octaves_df[['freq', 'notes']].values:\n",
        "        beat_df.eval(f'{notes}L = amp * sin(0.5 * 2 * @PI * {freq} * t)', inplace = True)\n",
        "\n",
        "    for freq, notes in octaves_df[['freq', 'notes']].values:\n",
        "        beat_df.eval(f'{notes} = amp * sin(2 * @PI * {freq} * t)', inplace = True)\n",
        "\n",
        "    for freq, notes in octaves_df[['freq', 'notes']].values:\n",
        "        beat_df.eval(f'{notes}H = amp * sin(2 * 2 * @PI * {freq} * t)', inplace = True)\n",
        "\n",
        "    beat_df.drop(['t', 'n', 'N', 'amp'], axis = 1, inplace = True)"
      ],
      "metadata": {
        "id": "5JM_YgHjE2fB"
      },
      "execution_count": 7,
      "outputs": []
    },
    {
      "cell_type": "code",
      "source": [
        "notes = {\n",
        "    'semi_breave' : notes_df,\n",
        "    'minim' : minim_notes_df,\n",
        "    'crotchet' : crotchet_notes_df,\n",
        "    'quaver' : quaver_notes_df\n",
        "}"
      ],
      "metadata": {
        "id": "WPHDv1QCRueV"
      },
      "execution_count": 8,
      "outputs": []
    },
    {
      "cell_type": "code",
      "source": [
        "for key in notes.keys():\n",
        "    sns.lineplot(x = 'beats', y = 'C', data = notes[key])"
      ],
      "metadata": {
        "colab": {
          "base_uri": "https://localhost:8080/",
          "height": 449
        },
        "id": "XW6OZ-3Vdcrc",
        "outputId": "1f58bcba-abb9-46f3-bd3b-6f39ae1dcbd9"
      },
      "execution_count": 9,
      "outputs": [
        {
          "output_type": "display_data",
          "data": {
            "text/plain": [
              "<Figure size 640x480 with 1 Axes>"
            ],
            "image/png": "[encoded data removed]"
          },
          "metadata": {}
        }
      ]
    },
    {
      "cell_type": "code",
      "source": [
        "track_arr = np.concatenate([notes[beat][note].values for beat, note in melody])\n",
        "\n",
        "track_norm = (track_arr - np.min(track_arr))/(np.max(track_arr) - np.min(track_arr))\n",
        "\n",
        "track_quant = np.floor((2**16 - 1) * track_norm + 0.5)\n",
        "\n",
        "track_byte = np.uint16(track_quant)"
      ],
      "metadata": {
        "id": "Ssg_lbceLm5h"
      },
      "execution_count": 10,
      "outputs": []
    },
    {
      "cell_type": "code",
      "source": [
        "!rm -f music.raw music.mp3 music.mp4"
      ],
      "metadata": {
        "id": "yeyqfbqPRA5E"
      },
      "execution_count": 11,
      "outputs": []
    },
    {
      "cell_type": "code",
      "source": [
        "with open('music.raw', 'wb') as wf:\n",
        "    wf.write(bytearray(track_byte))"
      ],
      "metadata": {
        "id": "Hfut86KSMt75"
      },
      "execution_count": 12,
      "outputs": []
    },
    {
      "cell_type": "code",
      "source": [
        "!ffmpeg -f u16le -ar 44100 -ac 1 -i music.raw music.mp3"
      ],
      "metadata": {
        "colab": {
          "base_uri": "https://localhost:8080/"
        },
        "id": "P7UevcXROAGb",
        "outputId": "f5ab6310-6394-4fef-9476-2aaa8f5acaae"
      },
      "execution_count": 13,
      "outputs": [
        {
          "output_type": "stream",
          "name": "stdout",
          "text": [
            "ffmpeg version 4.4.2-0ubuntu0.22.04.1 Copyright (c) 2000-2021 the FFmpeg developers\n",
            "  built with gcc 11 (Ubuntu 11.2.0-19ubuntu1)\n",
            "  configuration: --prefix=/usr --extra-version=0ubuntu0.22.04.1 --toolchain=hardened --libdir=/usr/lib/x86_64-linux-gnu --incdir=/usr/include/x86_64-linux-gnu --arch=amd64 --enable-gpl --disable-stripping --enable-gnutls --enable-ladspa --enable-libaom --enable-libass --enable-libbluray --enable-libbs2b --enable-libcaca --enable-libcdio --enable-libcodec2 --enable-libdav1d --enable-libflite --enable-libfontconfig --enable-libfreetype --enable-libfribidi --enable-libgme --enable-libgsm --enable-libjack --enable-libmp3lame --enable-libmysofa --enable-libopenjpeg --enable-libopenmpt --enable-libopus --enable-libpulse --enable-librabbitmq --enable-librubberband --enable-libshine --enable-libsnappy --enable-libsoxr --enable-libspeex --enable-libsrt --enable-libssh --enable-libtheora --enable-libtwolame --enable-libvidstab --enable-libvorbis --enable-libvpx --enable-libwebp --enable-libx265 --enable-libxml2 --enable-libxvid --enable-libzimg --enable-libzmq --enable-libzvbi --enable-lv2 --enable-omx --enable-openal --enable-opencl --enable-opengl --enable-sdl2 --enable-pocketsphinx --enable-librsvg --enable-libmfx --enable-libdc1394 --enable-libdrm --enable-libiec61883 --enable-chromaprint --enable-frei0r --enable-libx264 --enable-shared\n",
            "  libavutil      56. 70.100 / 56. 70.100\n",
            "  libavcodec     58.134.100 / 58.134.100\n",
            "  libavformat    58. 76.100 / 58. 76.100\n",
            "  libavdevice    58. 13.100 / 58. 13.100\n",
            "  libavfilter     7.110.100 /  7.110.100\n",
            "  libswscale      5.  9.100 /  5.  9.100\n",
            "  libswresample   3.  9.100 /  3.  9.100\n",
            "  libpostproc    55.  9.100 / 55.  9.100\n",
            "\u001b[0;35m[u16le @ 0x559a5d394100] \u001b[0m\u001b[0;33mEstimating duration from bitrate, this may be inaccurate\n",
            "\u001b[0m\u001b[0;33mGuessed Channel Layout for Input Stream #0.0 : mono\n",
            "\u001b[0mInput #0, u16le, from 'music.raw':\n",
            "  Duration: 00:00:03.50, bitrate: 705 kb/s\n",
            "  Stream #0:0: Audio: pcm_u16le, 44100 Hz, mono, s16, 705 kb/s\n",
            "Stream mapping:\n",
            "  Stream #0:0 -> #0:0 (pcm_u16le (native) -> mp3 (libmp3lame))\n",
            "Press [q] to stop, [?] for help\n",
            "Output #0, mp3, to 'music.mp3':\n",
            "  Metadata:\n",
            "    TSSE            : Lavf58.76.100\n",
            "  Stream #0:0: Audio: mp3, 44100 Hz, mono, s16p\n",
            "    Metadata:\n",
            "      encoder         : Lavc58.134.100 libmp3lame\n",
            "size=       0kB time=00:00:00.00 bitrate=N/A speed=N/A    \rsize=      28kB time=00:00:03.47 bitrate=  65.5kbits/s speed=93.5x    \n",
            "video:0kB audio:28kB subtitle:0kB other streams:0kB global headers:0kB muxing overhead: 0.804622%\n"
          ]
        }
      ]
    },
    {
      "cell_type": "code",
      "source": [
        "!ffmpeg -i music.mp3 -filter_complex \"[0:a]showcqt=s=1920x1080[v]\" -map '[v]' -map '0:a' -c:a copy   music.mp4"
      ],
      "metadata": {
        "colab": {
          "base_uri": "https://localhost:8080/"
        },
        "id": "BthGWV1kOPtZ",
        "outputId": "376f1807-55bd-4a8d-eca3-68bfbf1ab0a5"
      },
      "execution_count": 14,
      "outputs": [
        {
          "output_type": "stream",
          "name": "stdout",
          "text": [
            "ffmpeg version 4.4.2-0ubuntu0.22.04.1 Copyright (c) 2000-2021 the FFmpeg developers\n",
            "  built with gcc 11 (Ubuntu 11.2.0-19ubuntu1)\n",
            "  configuration: --prefix=/usr --extra-version=0ubuntu0.22.04.1 --toolchain=hardened --libdir=/usr/lib/x86_64-linux-gnu --incdir=/usr/include/x86_64-linux-gnu --arch=amd64 --enable-gpl --disable-stripping --enable-gnutls --enable-ladspa --enable-libaom --enable-libass --enable-libbluray --enable-libbs2b --enable-libcaca --enable-libcdio --enable-libcodec2 --enable-libdav1d --enable-libflite --enable-libfontconfig --enable-libfreetype --enable-libfribidi --enable-libgme --enable-libgsm --enable-libjack --enable-libmp3lame --enable-libmysofa --enable-libopenjpeg --enable-libopenmpt --enable-libopus --enable-libpulse --enable-librabbitmq --enable-librubberband --enable-libshine --enable-libsnappy --enable-libsoxr --enable-libspeex --enable-libsrt --enable-libssh --enable-libtheora --enable-libtwolame --enable-libvidstab --enable-libvorbis --enable-libvpx --enable-libwebp --enable-libx265 --enable-libxml2 --enable-libxvid --enable-libzimg --enable-libzmq --enable-libzvbi --enable-lv2 --enable-omx --enable-openal --enable-opencl --enable-opengl --enable-sdl2 --enable-pocketsphinx --enable-librsvg --enable-libmfx --enable-libdc1394 --enable-libdrm --enable-libiec61883 --enable-chromaprint --enable-frei0r --enable-libx264 --enable-shared\n",
            "  libavutil      56. 70.100 / 56. 70.100\n",
            "  libavcodec     58.134.100 / 58.134.100\n",
            "  libavformat    58. 76.100 / 58. 76.100\n",
            "  libavdevice    58. 13.100 / 58. 13.100\n",
            "  libavfilter     7.110.100 /  7.110.100\n",
            "  libswscale      5.  9.100 /  5.  9.100\n",
            "  libswresample   3.  9.100 /  3.  9.100\n",
            "  libpostproc    55.  9.100 / 55.  9.100\n",
            "Input #0, mp3, from 'music.mp3':\n",
            "  Metadata:\n",
            "    encoder         : Lavf58.76.100\n",
            "  Duration: 00:00:03.53, start: 0.025057, bitrate: 64 kb/s\n",
            "  Stream #0:0: Audio: mp3, 44100 Hz, mono, fltp, 64 kb/s\n",
            "Stream mapping:\n",
            "  Stream #0:0 (mp3float) -> showcqt\n",
            "  showcqt -> Stream #0:0 (libx264)\n",
            "  Stream #0:0 -> #0:1 (copy)\n",
            "Press [q] to stop, [?] for help\n",
            "\u001b[1;32m[Parsed_showcqt_0 @ 0x57a56d9b4d40] \u001b[0mvideo: 1920x1080 yuv420p 25/1 fps, bar_h = 524, axis_h = 32, sono_h = 524.\n",
            "\u001b[1;32m[Parsed_showcqt_0 @ 0x57a56d9b4d40] \u001b[0mfft_len = 8192, cqt_len = 1920.\n",
            "\u001b[1;32m[Parsed_showcqt_0 @ 0x57a56d9b4d40] \u001b[0mnb_cqt_coeffs = 52152.\n",
            "\u001b[1;32m[Parsed_showcqt_0 @ 0x57a56d9b4d40] \u001b[0maudio: 44100 Hz, step = 294.\n",
            "\u001b[1;36m[libx264 @ 0x57a56d9ae840] \u001b[0musing SAR=1/1\n",
            "\u001b[1;36m[libx264 @ 0x57a56d9ae840] \u001b[0musing cpu capabilities: MMX2 SSE2Fast SSSE3 SSE4.2 AVX FMA3 BMI2 AVX2\n",
            "\u001b[1;36m[libx264 @ 0x57a56d9ae840] \u001b[0mprofile High, level 4.0, 4:2:0, 8-bit\n",
            "\u001b[1;36m[libx264 @ 0x57a56d9ae840] \u001b[0m264 - core 163 r3060 5db6aa6 - H.264/MPEG-4 AVC codec - Copyleft 2003-2021 - http://www.videolan.org/x264.html - options: cabac=1 ref=3 deblock=1:0:0 analyse=0x3:0x113 me=hex subme=7 psy=1 psy_rd=1.00:0.00 mixed_ref=1 me_range=16 chroma_me=1 trellis=1 8x8dct=1 cqm=0 deadzone=21,11 fast_pskip=1 chroma_qp_offset=-2 threads=3 lookahead_threads=1 sliced_threads=0 nr=0 decimate=1 interlaced=0 bluray_compat=0 constrained_intra=0 bframes=3 b_pyramid=2 b_adapt=1 b_bias=0 direct=1 weightb=1 open_gop=0 weightp=2 keyint=250 keyint_min=25 scenecut=40 intra_refresh=0 rc_lookahead=40 rc=crf mbtree=1 crf=23.0 qcomp=0.60 qpmin=0 qpmax=69 qpstep=4 ip_ratio=1.40 aq=1:1.00\n",
            "Output #0, mp4, to 'music.mp4':\n",
            "  Metadata:\n",
            "    encoder         : Lavf58.76.100\n",
            "  Stream #0:0: Video: h264 (avc1 / 0x31637661), yuv420p(tv, progressive), 1920x1080 [SAR 1:1 DAR 16:9], q=2-31, 25 fps, 12800 tbn\n",
            "    Metadata:\n",
            "      encoder         : Lavc58.134.100 libx264\n",
            "    Side data:\n",
            "      cpb: bitrate max/min/avg: 0/0/0 buffer size: 0 vbv_delay: N/A\n",
            "  Stream #0:1: Audio: mp3 (mp4a / 0x6134706D), 44100 Hz, mono, fltp, 64 kb/s\n",
            "frame=   88 fps= 13 q=-1.0 Lsize=     104kB time=00:00:03.47 bitrate= 245.8kbits/s speed=0.513x    \n",
            "video:72kB audio:28kB subtitle:0kB other streams:0kB global headers:0kB muxing overhead: 4.338265%\n",
            "\u001b[1;36m[libx264 @ 0x57a56d9ae840] \u001b[0mframe I:1     Avg QP:13.80  size: 14480\n",
            "\u001b[1;36m[libx264 @ 0x57a56d9ae840] \u001b[0mframe P:52    Avg QP:21.34  size:   845\n",
            "\u001b[1;36m[libx264 @ 0x57a56d9ae840] \u001b[0mframe B:35    Avg QP:22.86  size:   429\n",
            "\u001b[1;36m[libx264 @ 0x57a56d9ae840] \u001b[0mconsecutive B-frames: 36.4% 25.0% 20.5% 18.2%\n",
            "\u001b[1;36m[libx264 @ 0x57a56d9ae840] \u001b[0mmb I  I16..4: 76.5% 20.9%  2.7%\n",
            "\u001b[1;36m[libx264 @ 0x57a56d9ae840] \u001b[0mmb P  I16..4:  0.9%  0.8%  0.1%  P16..4:  2.1%  0.2%  0.0%  0.0%  0.0%    skip:96.0%\n",
            "\u001b[1;36m[libx264 @ 0x57a56d9ae840] \u001b[0mmb B  I16..4:  0.1%  0.1%  0.0%  B16..8:  3.2%  0.2%  0.0%  direct: 0.0%  skip:96.4%  L0:38.6% L1:60.3% BI: 1.1%\n",
            "\u001b[1;36m[libx264 @ 0x57a56d9ae840] \u001b[0m8x8 transform intra:32.2% inter:76.9%\n",
            "\u001b[1;36m[libx264 @ 0x57a56d9ae840] \u001b[0mcoded y,uvDC,uvAC intra: 8.1% 2.9% 2.4% inter: 0.2% 0.0% 0.0%\n",
            "\u001b[1;36m[libx264 @ 0x57a56d9ae840] \u001b[0mi16 v,h,dc,p: 87% 11%  2%  0%\n",
            "\u001b[1;36m[libx264 @ 0x57a56d9ae840] \u001b[0mi8 v,h,dc,ddl,ddr,vr,hd,vl,hu: 40% 11% 47%  0%  0%  0%  0%  0%  0%\n",
            "\u001b[1;36m[libx264 @ 0x57a56d9ae840] \u001b[0mi4 v,h,dc,ddl,ddr,vr,hd,vl,hu: 53% 12% 24%  1%  2%  2%  2%  2%  1%\n",
            "\u001b[1;36m[libx264 @ 0x57a56d9ae840] \u001b[0mi8c dc,h,v,p: 95%  2%  3%  0%\n",
            "\u001b[1;36m[libx264 @ 0x57a56d9ae840] \u001b[0mWeighted P-Frames: Y:0.0% UV:0.0%\n",
            "\u001b[1;36m[libx264 @ 0x57a56d9ae840] \u001b[0mref P L0: 78.0%  3.5% 12.3%  6.2%\n",
            "\u001b[1;36m[libx264 @ 0x57a56d9ae840] \u001b[0mref B L0: 87.0%  9.9%  3.1%\n",
            "\u001b[1;36m[libx264 @ 0x57a56d9ae840] \u001b[0mref B L1: 99.2%  0.8%\n",
            "\u001b[1;36m[libx264 @ 0x57a56d9ae840] \u001b[0mkb/s:166.87\n"
          ]
        }
      ]
    },
    {
      "cell_type": "code",
      "source": [
        "gcf.download('music.mp4')"
      ],
      "metadata": {
        "colab": {
          "base_uri": "https://localhost:8080/",
          "height": 17
        },
        "id": "PM98fX_sOWOp",
        "outputId": "96e104a1-5252-46b3-9c99-8cf4a8c1ca04"
      },
      "execution_count": 15,
      "outputs": [
        {
          "output_type": "display_data",
          "data": {
            "text/plain": [
              "<IPython.core.display.Javascript object>"
            ],
            "application/javascript": [
              "\n",
              "    async function download(id, filename, size) {\n",
              "      if (!google.colab.kernel.accessAllowed) {\n",
              "        return;\n",
              "      }\n",
              "      const div = document.createElement('div');\n",
              "      const label = document.createElement('label');\n",
              "      label.textContent = `Downloading \"${filename}\": `;\n",
              "      div.appendChild(label);\n",
              "      const progress = document.createElement('progress');\n",
              "      progress.max = size;\n",
              "      div.appendChild(progress);\n",
              "      document.body.appendChild(div);\n",
              "\n",
              "      const buffers = [];\n",
              "      let downloaded = 0;\n",
              "\n",
              "      const channel = await google.colab.kernel.comms.open(id);\n",
              "      // Send a message to notify the kernel that we're ready.\n",
              "      channel.send({})\n",
              "\n",
              "      for await (const message of channel.messages) {\n",
              "        // Send a message to notify the kernel that we're ready.\n",
              "        channel.send({})\n",
              "        if (message.buffers) {\n",
              "          for (const buffer of message.buffers) {\n",
              "            buffers.push(buffer);\n",
              "            downloaded += buffer.byteLength;\n",
              "            progress.value = downloaded;\n",
              "          }\n",
              "        }\n",
              "      }\n",
              "      const blob = new Blob(buffers, {type: 'application/binary'});\n",
              "      const a = document.createElement('a');\n",
              "      a.href = window.URL.createObjectURL(blob);\n",
              "      a.download = filename;\n",
              "      div.appendChild(a);\n",
              "      a.click();\n",
              "      div.remove();\n",
              "    }\n",
              "  "
            ]
          },
          "metadata": {}
        },
        {
          "output_type": "display_data",
          "data": {
            "text/plain": [
              "<IPython.core.display.Javascript object>"
            ],
            "application/javascript": [
              "download(\"download_9f08668a-5b9f-4ca3-a3fd-d86527661606\", \"music.mp4\", 106761)"
            ]
          },
          "metadata": {}
        }
      ]
    },
    {
      "cell_type": "code",
      "source": [],
      "metadata": {
        "id": "rGp5U3mWPKze"
      },
      "execution_count": 15,
      "outputs": []
    }
  ]
}