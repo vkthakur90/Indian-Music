{
 "cells": [
  {
   "cell_type": "markdown",
   "metadata": {},
   "source": [
    "## Generating Indian Music using Pandas and Numpy"
   ]
  },
  {
   "cell_type": "markdown",
   "metadata": {},
   "source": [
    "### Author : Vinay Kumar Thakur"
   ]
  },
  {
   "cell_type": "markdown",
   "metadata": {},
   "source": [
    "In order to compose music, we should write notes in **compose.csv** file. \n",
    "\n",
    "The file **compose.csv** should have only two columns, the columns are \n",
    " 1. **half_beats**\n",
    " 2. **notes**"
   ]
  },
  {
   "cell_type": "markdown",
   "metadata": {},
   "source": [
    "* The value of half_beats can be: {1, 2, 3, 4, 5, 6, 7, 8}\n",
    "* The value of notes can be one of the following\n",
    "  (a) The notes in middle octaves can be written as following : \n",
    "         (i) suddha swar : {S, R, G, M, P, D, N}\n",
    "         (ii) komal swar (flats) : {r, g, d, n}\n",
    "         (iii) teevra swar (sharp) : {m}\n",
    "         (iv) atirikta shruti : {r_a, R_a, g_a, G_a, M_a, m_a, d_a, D_a, n_a, N_a}\n",
    "  (b) The swar in other octaves can be written as following :\n",
    "         (i) mandra saptak (lower octaves): It is obtained by using prefix (l_) e.g l_S, l_R, l_g, l_m_a\n",
    "         (ii) taar saptak (upper octaves): It is obtained by using prefix (u_)"
   ]
  },
  {
   "cell_type": "markdown",
   "metadata": {},
   "source": [
    "Note :- ffmpeg(on linux) is needed to run this code"
   ]
  },
  {
   "cell_type": "code",
   "execution_count": 1,
   "metadata": {},
   "outputs": [],
   "source": [
    "%matplotlib inline"
   ]
  },
  {
   "cell_type": "code",
   "execution_count": 2,
   "metadata": {},
   "outputs": [],
   "source": [
    "import numpy as np\n",
    "import pandas as pd"
   ]
  },
  {
   "cell_type": "code",
   "execution_count": 3,
   "metadata": {},
   "outputs": [],
   "source": [
    "TEMPO = 60 #beats_per_second\n",
    "BASE_FREQ = 256\n",
    "PI = np.pi"
   ]
  },
  {
   "cell_type": "code",
   "execution_count": 4,
   "metadata": {},
   "outputs": [],
   "source": [
    "DELTA_CENT_PA = np.floor(1200 * np.log(3/2)/np.log(2) + 0.5)\n",
    "DELTA_CENT_GA = np.floor(1200 * np.log(5/4)/np.log(2) + 0.5)"
   ]
  },
  {
   "cell_type": "code",
   "execution_count": 5,
   "metadata": {},
   "outputs": [],
   "source": [
    "m_list = [idx - 3 for idx in range(10)]\n",
    "n_list = [idx - 1 for idx in reversed(range(5))]"
   ]
  },
  {
   "cell_type": "code",
   "execution_count": 6,
   "metadata": {},
   "outputs": [],
   "source": [
    "samvad = []\n",
    "for n in n_list:\n",
    "    temp = []\n",
    "    for m in m_list:\n",
    "        temp += [(m * DELTA_CENT_GA + n * DELTA_CENT_PA) % 1200]\n",
    "    samvad += [temp]\n",
    "    \n",
    "samvad_df = pd.DataFrame(samvad)\n",
    "samvad_df.columns = [f'C_{idx + 1}' for idx in range(len(samvad_df.columns))]\n",
    "samvad_df.index = [f'R_{idx + 1}' for idx in range(len(samvad_df.index))]"
   ]
  },
  {
   "cell_type": "code",
   "execution_count": 7,
   "metadata": {},
   "outputs": [],
   "source": [
    "notes_df = pd.DataFrame({'cents' : samvad_df.stack()})\n",
    "notes_df.index.names = ['rows', 'columns']\n",
    "notes_df.reset_index(inplace = True)\n",
    "notes_df.sort_values(by = 'cents', inplace = True)\n",
    "notes_df.eval('N = floor(cents/100)', inplace = True)"
   ]
  },
  {
   "cell_type": "code",
   "execution_count": 8,
   "metadata": {},
   "outputs": [
    {
     "data": {
      "text/html": [
       "<div>\n",
       "<style scoped>\n",
       "    .dataframe tbody tr th:only-of-type {\n",
       "        vertical-align: middle;\n",
       "    }\n",
       "\n",
       "    .dataframe tbody tr th {\n",
       "        vertical-align: top;\n",
       "    }\n",
       "\n",
       "    .dataframe thead th {\n",
       "        text-align: right;\n",
       "    }\n",
       "</style>\n",
       "<table border=\"1\" class=\"dataframe\">\n",
       "  <thead>\n",
       "    <tr style=\"text-align: right;\">\n",
       "      <th></th>\n",
       "      <th>C_1</th>\n",
       "      <th>C_2</th>\n",
       "      <th>C_3</th>\n",
       "      <th>C_4</th>\n",
       "      <th>C_5</th>\n",
       "      <th>C_6</th>\n",
       "      <th>C_7</th>\n",
       "      <th>C_8</th>\n",
       "      <th>C_9</th>\n",
       "      <th>C_10</th>\n",
       "    </tr>\n",
       "  </thead>\n",
       "  <tbody>\n",
       "    <tr>\n",
       "      <td>R_1</td>\n",
       "      <td>948.0</td>\n",
       "      <td>134.0</td>\n",
       "      <td>520.0</td>\n",
       "      <td>906.0</td>\n",
       "      <td>92.0</td>\n",
       "      <td>478.0</td>\n",
       "      <td>864.0</td>\n",
       "      <td>50.0</td>\n",
       "      <td>436.0</td>\n",
       "      <td>822.0</td>\n",
       "    </tr>\n",
       "    <tr>\n",
       "      <td>R_2</td>\n",
       "      <td>246.0</td>\n",
       "      <td>632.0</td>\n",
       "      <td>1018.0</td>\n",
       "      <td>204.0</td>\n",
       "      <td>590.0</td>\n",
       "      <td>976.0</td>\n",
       "      <td>162.0</td>\n",
       "      <td>548.0</td>\n",
       "      <td>934.0</td>\n",
       "      <td>120.0</td>\n",
       "    </tr>\n",
       "    <tr>\n",
       "      <td>R_3</td>\n",
       "      <td>744.0</td>\n",
       "      <td>1130.0</td>\n",
       "      <td>316.0</td>\n",
       "      <td>702.0</td>\n",
       "      <td>1088.0</td>\n",
       "      <td>274.0</td>\n",
       "      <td>660.0</td>\n",
       "      <td>1046.0</td>\n",
       "      <td>232.0</td>\n",
       "      <td>618.0</td>\n",
       "    </tr>\n",
       "    <tr>\n",
       "      <td>R_4</td>\n",
       "      <td>42.0</td>\n",
       "      <td>428.0</td>\n",
       "      <td>814.0</td>\n",
       "      <td>0.0</td>\n",
       "      <td>386.0</td>\n",
       "      <td>772.0</td>\n",
       "      <td>1158.0</td>\n",
       "      <td>344.0</td>\n",
       "      <td>730.0</td>\n",
       "      <td>1116.0</td>\n",
       "    </tr>\n",
       "    <tr>\n",
       "      <td>R_5</td>\n",
       "      <td>540.0</td>\n",
       "      <td>926.0</td>\n",
       "      <td>112.0</td>\n",
       "      <td>498.0</td>\n",
       "      <td>884.0</td>\n",
       "      <td>70.0</td>\n",
       "      <td>456.0</td>\n",
       "      <td>842.0</td>\n",
       "      <td>28.0</td>\n",
       "      <td>414.0</td>\n",
       "    </tr>\n",
       "  </tbody>\n",
       "</table>\n",
       "</div>"
      ],
      "text/plain": [
       "       C_1     C_2     C_3    C_4     C_5    C_6     C_7     C_8    C_9  \\\n",
       "R_1  948.0   134.0   520.0  906.0    92.0  478.0   864.0    50.0  436.0   \n",
       "R_2  246.0   632.0  1018.0  204.0   590.0  976.0   162.0   548.0  934.0   \n",
       "R_3  744.0  1130.0   316.0  702.0  1088.0  274.0   660.0  1046.0  232.0   \n",
       "R_4   42.0   428.0   814.0    0.0   386.0  772.0  1158.0   344.0  730.0   \n",
       "R_5  540.0   926.0   112.0  498.0   884.0   70.0   456.0   842.0   28.0   \n",
       "\n",
       "       C_10  \n",
       "R_1   822.0  \n",
       "R_2   120.0  \n",
       "R_3   618.0  \n",
       "R_4  1116.0  \n",
       "R_5   414.0  "
      ]
     },
     "execution_count": 8,
     "metadata": {},
     "output_type": "execute_result"
    }
   ],
   "source": [
    "samvad_df"
   ]
  },
  {
   "cell_type": "code",
   "execution_count": 9,
   "metadata": {},
   "outputs": [],
   "source": [
    "octaves = []\n",
    "for n in range(12):\n",
    "    if n in [6, 11]:\n",
    "        octaves += [notes_df.query('N == @n').iloc[[0]][['cents']]]\n",
    "        continue\n",
    "    \n",
    "    octaves += [notes_df.query('N == @n').iloc[[0,-1]][['cents']]]\n",
    "    \n",
    "octaves_df = pd.concat(octaves, ignore_index = True)"
   ]
  },
  {
   "cell_type": "code",
   "execution_count": 10,
   "metadata": {},
   "outputs": [],
   "source": [
    "octaves_df['notes'] = [\n",
    "    'S',\n",
    "    'r_a', 'r',\n",
    "    'R_a', 'R',\n",
    "    'g_a', 'g',\n",
    "    'G', 'G_a',\n",
    "    'M', 'M_a',\n",
    "    'm', 'm_a',\n",
    "    'P',\n",
    "    'd_a', 'd',\n",
    "    'D', 'D_a',\n",
    "    'n_a', 'n',\n",
    "    'N', 'N_a',\n",
    "]"
   ]
  },
  {
   "cell_type": "code",
   "execution_count": 11,
   "metadata": {},
   "outputs": [],
   "source": [
    "cents_df = octaves_df.set_index('cents')"
   ]
  },
  {
   "cell_type": "code",
   "execution_count": 12,
   "metadata": {},
   "outputs": [
    {
     "data": {
      "text/html": [
       "<div>\n",
       "<style scoped>\n",
       "    .dataframe tbody tr th:only-of-type {\n",
       "        vertical-align: middle;\n",
       "    }\n",
       "\n",
       "    .dataframe tbody tr th {\n",
       "        vertical-align: top;\n",
       "    }\n",
       "\n",
       "    .dataframe thead th {\n",
       "        text-align: right;\n",
       "    }\n",
       "</style>\n",
       "<table border=\"1\" class=\"dataframe\">\n",
       "  <thead>\n",
       "    <tr style=\"text-align: right;\">\n",
       "      <th></th>\n",
       "      <th>cents</th>\n",
       "      <th>notes</th>\n",
       "    </tr>\n",
       "  </thead>\n",
       "  <tbody>\n",
       "    <tr>\n",
       "      <td>0</td>\n",
       "      <td>0.0</td>\n",
       "      <td>S</td>\n",
       "    </tr>\n",
       "    <tr>\n",
       "      <td>1</td>\n",
       "      <td>92.0</td>\n",
       "      <td>r_a</td>\n",
       "    </tr>\n",
       "    <tr>\n",
       "      <td>2</td>\n",
       "      <td>112.0</td>\n",
       "      <td>r</td>\n",
       "    </tr>\n",
       "    <tr>\n",
       "      <td>3</td>\n",
       "      <td>162.0</td>\n",
       "      <td>R_a</td>\n",
       "    </tr>\n",
       "    <tr>\n",
       "      <td>4</td>\n",
       "      <td>204.0</td>\n",
       "      <td>R</td>\n",
       "    </tr>\n",
       "    <tr>\n",
       "      <td>5</td>\n",
       "      <td>274.0</td>\n",
       "      <td>g_a</td>\n",
       "    </tr>\n",
       "    <tr>\n",
       "      <td>6</td>\n",
       "      <td>316.0</td>\n",
       "      <td>g</td>\n",
       "    </tr>\n",
       "    <tr>\n",
       "      <td>7</td>\n",
       "      <td>386.0</td>\n",
       "      <td>G</td>\n",
       "    </tr>\n",
       "    <tr>\n",
       "      <td>8</td>\n",
       "      <td>414.0</td>\n",
       "      <td>G_a</td>\n",
       "    </tr>\n",
       "    <tr>\n",
       "      <td>9</td>\n",
       "      <td>498.0</td>\n",
       "      <td>M</td>\n",
       "    </tr>\n",
       "    <tr>\n",
       "      <td>10</td>\n",
       "      <td>520.0</td>\n",
       "      <td>M_a</td>\n",
       "    </tr>\n",
       "    <tr>\n",
       "      <td>11</td>\n",
       "      <td>590.0</td>\n",
       "      <td>m</td>\n",
       "    </tr>\n",
       "    <tr>\n",
       "      <td>12</td>\n",
       "      <td>618.0</td>\n",
       "      <td>m_a</td>\n",
       "    </tr>\n",
       "    <tr>\n",
       "      <td>13</td>\n",
       "      <td>702.0</td>\n",
       "      <td>P</td>\n",
       "    </tr>\n",
       "    <tr>\n",
       "      <td>14</td>\n",
       "      <td>772.0</td>\n",
       "      <td>d_a</td>\n",
       "    </tr>\n",
       "    <tr>\n",
       "      <td>15</td>\n",
       "      <td>814.0</td>\n",
       "      <td>d</td>\n",
       "    </tr>\n",
       "    <tr>\n",
       "      <td>16</td>\n",
       "      <td>884.0</td>\n",
       "      <td>D</td>\n",
       "    </tr>\n",
       "    <tr>\n",
       "      <td>17</td>\n",
       "      <td>906.0</td>\n",
       "      <td>D_a</td>\n",
       "    </tr>\n",
       "    <tr>\n",
       "      <td>18</td>\n",
       "      <td>976.0</td>\n",
       "      <td>n_a</td>\n",
       "    </tr>\n",
       "    <tr>\n",
       "      <td>19</td>\n",
       "      <td>1018.0</td>\n",
       "      <td>n</td>\n",
       "    </tr>\n",
       "    <tr>\n",
       "      <td>20</td>\n",
       "      <td>1088.0</td>\n",
       "      <td>N</td>\n",
       "    </tr>\n",
       "    <tr>\n",
       "      <td>21</td>\n",
       "      <td>1116.0</td>\n",
       "      <td>N_a</td>\n",
       "    </tr>\n",
       "  </tbody>\n",
       "</table>\n",
       "</div>"
      ],
      "text/plain": [
       "     cents notes\n",
       "0      0.0     S\n",
       "1     92.0   r_a\n",
       "2    112.0     r\n",
       "3    162.0   R_a\n",
       "4    204.0     R\n",
       "5    274.0   g_a\n",
       "6    316.0     g\n",
       "7    386.0     G\n",
       "8    414.0   G_a\n",
       "9    498.0     M\n",
       "10   520.0   M_a\n",
       "11   590.0     m\n",
       "12   618.0   m_a\n",
       "13   702.0     P\n",
       "14   772.0   d_a\n",
       "15   814.0     d\n",
       "16   884.0     D\n",
       "17   906.0   D_a\n",
       "18   976.0   n_a\n",
       "19  1018.0     n\n",
       "20  1088.0     N\n",
       "21  1116.0   N_a"
      ]
     },
     "execution_count": 12,
     "metadata": {},
     "output_type": "execute_result"
    }
   ],
   "source": [
    "octaves_df"
   ]
  },
  {
   "cell_type": "code",
   "execution_count": 13,
   "metadata": {},
   "outputs": [],
   "source": [
    "swar_samvad_df = (\n",
    "    notes_df.sort_index()\n",
    "            .merge(cents_df, how = 'left', left_on = 'cents', right_index = True)\n",
    "            .pivot(index = 'rows', columns = 'columns', values = 'notes')\n",
    ").loc[[f'R_{idx + 1}' for idx in range(5)], [f'C_{idx + 1}' for idx in range(10)]]"
   ]
  },
  {
   "cell_type": "code",
   "execution_count": 14,
   "metadata": {},
   "outputs": [
    {
     "data": {
      "text/html": [
       "<div>\n",
       "<style scoped>\n",
       "    .dataframe tbody tr th:only-of-type {\n",
       "        vertical-align: middle;\n",
       "    }\n",
       "\n",
       "    .dataframe tbody tr th {\n",
       "        vertical-align: top;\n",
       "    }\n",
       "\n",
       "    .dataframe thead th {\n",
       "        text-align: right;\n",
       "    }\n",
       "</style>\n",
       "<table border=\"1\" class=\"dataframe\">\n",
       "  <thead>\n",
       "    <tr style=\"text-align: right;\">\n",
       "      <th>columns</th>\n",
       "      <th>C_1</th>\n",
       "      <th>C_2</th>\n",
       "      <th>C_3</th>\n",
       "      <th>C_4</th>\n",
       "      <th>C_5</th>\n",
       "      <th>C_6</th>\n",
       "      <th>C_7</th>\n",
       "      <th>C_8</th>\n",
       "      <th>C_9</th>\n",
       "      <th>C_10</th>\n",
       "    </tr>\n",
       "    <tr>\n",
       "      <th>rows</th>\n",
       "      <th></th>\n",
       "      <th></th>\n",
       "      <th></th>\n",
       "      <th></th>\n",
       "      <th></th>\n",
       "      <th></th>\n",
       "      <th></th>\n",
       "      <th></th>\n",
       "      <th></th>\n",
       "      <th></th>\n",
       "    </tr>\n",
       "  </thead>\n",
       "  <tbody>\n",
       "    <tr>\n",
       "      <td>R_1</td>\n",
       "      <td>NaN</td>\n",
       "      <td>NaN</td>\n",
       "      <td>M_a</td>\n",
       "      <td>D_a</td>\n",
       "      <td>r_a</td>\n",
       "      <td>NaN</td>\n",
       "      <td>NaN</td>\n",
       "      <td>NaN</td>\n",
       "      <td>NaN</td>\n",
       "      <td>NaN</td>\n",
       "    </tr>\n",
       "    <tr>\n",
       "      <td>R_2</td>\n",
       "      <td>NaN</td>\n",
       "      <td>NaN</td>\n",
       "      <td>n</td>\n",
       "      <td>R</td>\n",
       "      <td>m</td>\n",
       "      <td>n_a</td>\n",
       "      <td>R_a</td>\n",
       "      <td>NaN</td>\n",
       "      <td>NaN</td>\n",
       "      <td>NaN</td>\n",
       "    </tr>\n",
       "    <tr>\n",
       "      <td>R_3</td>\n",
       "      <td>NaN</td>\n",
       "      <td>NaN</td>\n",
       "      <td>g</td>\n",
       "      <td>P</td>\n",
       "      <td>N</td>\n",
       "      <td>g_a</td>\n",
       "      <td>NaN</td>\n",
       "      <td>NaN</td>\n",
       "      <td>NaN</td>\n",
       "      <td>m_a</td>\n",
       "    </tr>\n",
       "    <tr>\n",
       "      <td>R_4</td>\n",
       "      <td>NaN</td>\n",
       "      <td>NaN</td>\n",
       "      <td>d</td>\n",
       "      <td>S</td>\n",
       "      <td>G</td>\n",
       "      <td>d_a</td>\n",
       "      <td>NaN</td>\n",
       "      <td>NaN</td>\n",
       "      <td>NaN</td>\n",
       "      <td>N_a</td>\n",
       "    </tr>\n",
       "    <tr>\n",
       "      <td>R_5</td>\n",
       "      <td>NaN</td>\n",
       "      <td>NaN</td>\n",
       "      <td>r</td>\n",
       "      <td>M</td>\n",
       "      <td>D</td>\n",
       "      <td>NaN</td>\n",
       "      <td>NaN</td>\n",
       "      <td>NaN</td>\n",
       "      <td>NaN</td>\n",
       "      <td>G_a</td>\n",
       "    </tr>\n",
       "  </tbody>\n",
       "</table>\n",
       "</div>"
      ],
      "text/plain": [
       "columns  C_1  C_2  C_3  C_4  C_5  C_6  C_7  C_8  C_9 C_10\n",
       "rows                                                     \n",
       "R_1      NaN  NaN  M_a  D_a  r_a  NaN  NaN  NaN  NaN  NaN\n",
       "R_2      NaN  NaN    n    R    m  n_a  R_a  NaN  NaN  NaN\n",
       "R_3      NaN  NaN    g    P    N  g_a  NaN  NaN  NaN  m_a\n",
       "R_4      NaN  NaN    d    S    G  d_a  NaN  NaN  NaN  N_a\n",
       "R_5      NaN  NaN    r    M    D  NaN  NaN  NaN  NaN  G_a"
      ]
     },
     "execution_count": 14,
     "metadata": {},
     "output_type": "execute_result"
    }
   ],
   "source": [
    "swar_samvad_df"
   ]
  },
  {
   "cell_type": "code",
   "execution_count": 15,
   "metadata": {},
   "outputs": [],
   "source": [
    "three_octaves_df = pd.concat([\n",
    "    pd.DataFrame({\n",
    "        'notes': 'l_' + octaves_df['notes'],\n",
    "        'cents': -1200 + octaves_df['cents']\n",
    "    }),\n",
    "    pd.DataFrame({\n",
    "        'notes': octaves_df['notes'],\n",
    "        'cents': octaves_df['cents']\n",
    "    }),\n",
    "    pd.DataFrame({\n",
    "        'notes': 'u_' + octaves_df['notes'],\n",
    "        'cents': 1200 + octaves_df['cents']\n",
    "    }),\n",
    "], ignore_index = True)"
   ]
  },
  {
   "cell_type": "code",
   "execution_count": 16,
   "metadata": {},
   "outputs": [],
   "source": [
    "three_octaves_df.eval('freq = @BASE_FREQ * 2 ** (cents/1200)', inplace = True)"
   ]
  },
  {
   "cell_type": "code",
   "execution_count": 17,
   "metadata": {},
   "outputs": [],
   "source": [
    "beats_df = pd.DataFrame({'n': np.arange(44100 * 10)})"
   ]
  },
  {
   "cell_type": "code",
   "execution_count": 18,
   "metadata": {},
   "outputs": [],
   "source": [
    "beats_df.eval('t = n/44100', inplace = True)\n",
    "beats_df.eval('beats = @TEMPO * t / 60', inplace = True)"
   ]
  },
  {
   "cell_type": "code",
   "execution_count": 19,
   "metadata": {},
   "outputs": [],
   "source": [
    " timbre_df = pd.concat([\n",
    "     (\n",
    "         beats_df.query(f'beats < {(n + 1) / 2}')\n",
    "                  .eval(f'A = 3 * (beats / {(n + 1) / 2}) * exp( -9 * (beats / {(n + 1) / 2})**2)')\n",
    "                  .eval(f'half_beats = {n + 1}')\n",
    "     ) for n in range(8)\n",
    " ], ignore_index = True)"
   ]
  },
  {
   "cell_type": "code",
   "execution_count": 20,
   "metadata": {},
   "outputs": [],
   "source": [
    "for freq, notes in three_octaves_df[['freq', 'notes']].values:\n",
    "    timbre_df.eval(f'{notes} = A * sin(2 * @PI * {freq} * t)', inplace = True)"
   ]
  },
  {
   "cell_type": "code",
   "execution_count": 21,
   "metadata": {},
   "outputs": [],
   "source": [
    "timbre_df.eval('rest = 0', inplace = True)"
   ]
  },
  {
   "cell_type": "code",
   "execution_count": 22,
   "metadata": {},
   "outputs": [],
   "source": [
    "compose_df = pd.read_csv('compose.csv')"
   ]
  },
  {
   "cell_type": "code",
   "execution_count": 23,
   "metadata": {},
   "outputs": [
    {
     "data": {
      "text/html": [
       "<div>\n",
       "<style scoped>\n",
       "    .dataframe tbody tr th:only-of-type {\n",
       "        vertical-align: middle;\n",
       "    }\n",
       "\n",
       "    .dataframe tbody tr th {\n",
       "        vertical-align: top;\n",
       "    }\n",
       "\n",
       "    .dataframe thead th {\n",
       "        text-align: right;\n",
       "    }\n",
       "</style>\n",
       "<table border=\"1\" class=\"dataframe\">\n",
       "  <thead>\n",
       "    <tr style=\"text-align: right;\">\n",
       "      <th></th>\n",
       "      <th>half_beats</th>\n",
       "      <th>notes</th>\n",
       "    </tr>\n",
       "  </thead>\n",
       "  <tbody>\n",
       "    <tr>\n",
       "      <td>0</td>\n",
       "      <td>1</td>\n",
       "      <td>G</td>\n",
       "    </tr>\n",
       "    <tr>\n",
       "      <td>1</td>\n",
       "      <td>1</td>\n",
       "      <td>G</td>\n",
       "    </tr>\n",
       "    <tr>\n",
       "      <td>2</td>\n",
       "      <td>1</td>\n",
       "      <td>G</td>\n",
       "    </tr>\n",
       "    <tr>\n",
       "      <td>3</td>\n",
       "      <td>1</td>\n",
       "      <td>N</td>\n",
       "    </tr>\n",
       "    <tr>\n",
       "      <td>4</td>\n",
       "      <td>1</td>\n",
       "      <td>D</td>\n",
       "    </tr>\n",
       "  </tbody>\n",
       "</table>\n",
       "</div>"
      ],
      "text/plain": [
       "   half_beats notes\n",
       "0           1     G\n",
       "1           1     G\n",
       "2           1     G\n",
       "3           1     N\n",
       "4           1     D"
      ]
     },
     "execution_count": 23,
     "metadata": {},
     "output_type": "execute_result"
    }
   ],
   "source": [
    "compose_df.head()"
   ]
  },
  {
   "cell_type": "code",
   "execution_count": 24,
   "metadata": {},
   "outputs": [],
   "source": [
    "track_df = pd.DataFrame({\n",
    "    'y': pd.concat([\n",
    "        timbre_df.query('half_beats == @b')[f'{n}'] \n",
    "        for _, (b, n) in compose_df[['half_beats', 'notes']].iterrows()\n",
    "    ], ignore_index = True)\n",
    "})"
   ]
  },
  {
   "cell_type": "code",
   "execution_count": 25,
   "metadata": {},
   "outputs": [],
   "source": [
    "track_df = (track_df - track_df.min())/(track_df.max() - track_df.min())"
   ]
  },
  {
   "cell_type": "code",
   "execution_count": 26,
   "metadata": {},
   "outputs": [],
   "source": [
    "track_df = ((2**16 - 1) * track_df + 0.5).apply(np.floor)"
   ]
  },
  {
   "cell_type": "code",
   "execution_count": 27,
   "metadata": {},
   "outputs": [],
   "source": [
    "with open('music.raw', 'wb') as wf:\n",
    "    wf.write(bytearray(np.uint16(track_df.values)))"
   ]
  },
  {
   "cell_type": "code",
   "execution_count": 28,
   "metadata": {},
   "outputs": [],
   "source": [
    "!rm music.mp3 "
   ]
  },
  {
   "cell_type": "code",
   "execution_count": 29,
   "metadata": {},
   "outputs": [
    {
     "name": "stdout",
     "output_type": "stream",
     "text": [
      "ffmpeg version 3.4.8-0ubuntu0.2 Copyright (c) 2000-2020 the FFmpeg developers\n",
      "  built with gcc 7 (Ubuntu 7.5.0-3ubuntu1~18.04)\n",
      "  configuration: --prefix=/usr --extra-version=0ubuntu0.2 --toolchain=hardened --libdir=/usr/lib/x86_64-linux-gnu --incdir=/usr/include/x86_64-linux-gnu --enable-gpl --disable-stripping --enable-avresample --enable-avisynth --enable-gnutls --enable-ladspa --enable-libass --enable-libbluray --enable-libbs2b --enable-libcaca --enable-libcdio --enable-libflite --enable-libfontconfig --enable-libfreetype --enable-libfribidi --enable-libgme --enable-libgsm --enable-libmp3lame --enable-libmysofa --enable-libopenjpeg --enable-libopenmpt --enable-libopus --enable-libpulse --enable-librubberband --enable-librsvg --enable-libshine --enable-libsnappy --enable-libsoxr --enable-libspeex --enable-libssh --enable-libtheora --enable-libtwolame --enable-libvorbis --enable-libvpx --enable-libwavpack --enable-libwebp --enable-libx265 --enable-libxml2 --enable-libxvid --enable-libzmq --enable-libzvbi --enable-omx --enable-openal --enable-opengl --enable-sdl2 --enable-libdc1394 --enable-libdrm --enable-libiec61883 --enable-chromaprint --enable-frei0r --enable-libopencv --enable-libx264 --enable-shared\n",
      "  libavutil      55. 78.100 / 55. 78.100\n",
      "  libavcodec     57.107.100 / 57.107.100\n",
      "  libavformat    57. 83.100 / 57. 83.100\n",
      "  libavdevice    57. 10.100 / 57. 10.100\n",
      "  libavfilter     6.107.100 /  6.107.100\n",
      "  libavresample   3.  7.  0 /  3.  7.  0\n",
      "  libswscale      4.  8.100 /  4.  8.100\n",
      "  libswresample   2.  9.100 /  2.  9.100\n",
      "  libpostproc    54.  7.100 / 54.  7.100\n",
      "\u001b[0;35m[u16le @ 0x55c8fea0d8e0] \u001b[0m\u001b[0;33mEstimating duration from bitrate, this may be inaccurate\n",
      "\u001b[0m\u001b[0;33mGuessed Channel Layout for Input Stream #0.0 : mono\n",
      "\u001b[0mInput #0, u16le, from 'music.raw':\n",
      "  Duration: 00:00:24.50, bitrate: 705 kb/s\n",
      "    Stream #0:0: Audio: pcm_u16le, 44100 Hz, mono, s16, 705 kb/s\n",
      "Stream mapping:\n",
      "  Stream #0:0 -> #0:0 (pcm_u16le (native) -> mp3 (libmp3lame))\n",
      "Press [q] to stop, [?] for help\n",
      "Output #0, mp3, to 'music.mp3':\n",
      "  Metadata:\n",
      "    TSSE            : Lavf57.83.100\n",
      "    Stream #0:0: Audio: mp3 (libmp3lame), 44100 Hz, mono, s16p\n",
      "    Metadata:\n",
      "      encoder         : Lavc57.107.100 libmp3lame\n",
      "size=     192kB time=00:00:24.50 bitrate=  64.1kbits/s speed=96.1x    \n",
      "video:0kB audio:192kB subtitle:0kB other streams:0kB global headers:0kB muxing overhead: 0.115680%\n"
     ]
    }
   ],
   "source": [
    "!ffmpeg -f u16le -ar 44100 -ac 1 -i music.raw music.mp3"
   ]
  }
 ],
 "metadata": {
  "kernelspec": {
   "display_name": "Python 3",
   "language": "python",
   "name": "python3"
  },
  "language_info": {
   "codemirror_mode": {
    "name": "ipython",
    "version": 3
   },
   "file_extension": ".py",
   "mimetype": "text/x-python",
   "name": "python",
   "nbconvert_exporter": "python",
   "pygments_lexer": "ipython3",
   "version": "3.7.4"
  }
 },
 "nbformat": 4,
 "nbformat_minor": 2
}
