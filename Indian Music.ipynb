{
 "cells": [
  {
   "cell_type": "code",
   "execution_count": 27,
   "metadata": {},
   "outputs": [],
   "source": [
    "%matplotlib inline"
   ]
  },
  {
   "cell_type": "code",
   "execution_count": 28,
   "metadata": {},
   "outputs": [],
   "source": [
    "import numpy as np\n",
    "import pandas as pd\n",
    "import seaborn as sns\n",
    "import statsmodels.formula.api as plt\n",
    "import matplotlib.pyplot as plt"
   ]
  },
  {
   "cell_type": "code",
   "execution_count": 29,
   "metadata": {},
   "outputs": [],
   "source": [
    "TEMPO = 120 #beats_per_second\n",
    "BASE_FREQ = 256\n",
    "PI = np.pi"
   ]
  },
  {
   "cell_type": "code",
   "execution_count": 30,
   "metadata": {},
   "outputs": [],
   "source": [
    "DELTA_CENT_PA = np.floor(1200 * np.log(3/2)/np.log(2) + 0.5)\n",
    "DELTA_CENT_GA = np.floor(1200 * np.log(5/4)/np.log(2) + 0.5)"
   ]
  },
  {
   "cell_type": "code",
   "execution_count": 31,
   "metadata": {},
   "outputs": [],
   "source": [
    "m_list = [idx - 3 for idx in range(10)]\n",
    "n_list = [idx - 1 for idx in reversed(range(5))]"
   ]
  },
  {
   "cell_type": "code",
   "execution_count": 32,
   "metadata": {},
   "outputs": [],
   "source": [
    "samvad = []\n",
    "for n in n_list:\n",
    "    temp = []\n",
    "    for m in m_list:\n",
    "        temp += [(m * DELTA_CENT_GA + n * DELTA_CENT_PA) % 1200]\n",
    "    samvad += [temp]\n",
    "    \n",
    "samvad_df = pd.DataFrame(samvad)\n",
    "samvad_df.columns = [f'C_{idx + 1}' for idx in range(len(samvad_df.columns))]\n",
    "samvad_df.index = [f'R_{idx + 1}' for idx in range(len(samvad_df.index))]"
   ]
  },
  {
   "cell_type": "code",
   "execution_count": 33,
   "metadata": {},
   "outputs": [],
   "source": [
    "notes_df = pd.DataFrame({'cents' : samvad_df.stack()})\n",
    "notes_df.index.names = ['rows', 'columns']\n",
    "notes_df.reset_index(inplace = True)\n",
    "notes_df.sort_values(by = 'cents', inplace = True)\n",
    "notes_df.eval('N = floor(cents/100)', inplace = True)"
   ]
  },
  {
   "cell_type": "code",
   "execution_count": 34,
   "metadata": {},
   "outputs": [],
   "source": [
    "octaves = []\n",
    "for n in range(12):\n",
    "    if n in [6, 11]:\n",
    "        octaves += [notes_df.query('N == @n').iloc[[0]][['cents']]]\n",
    "        continue\n",
    "    \n",
    "    octaves += [notes_df.query('N == @n').iloc[[0,-1]][['cents']]]\n",
    "    \n",
    "octaves_df = pd.concat(octaves, ignore_index = True)"
   ]
  },
  {
   "cell_type": "code",
   "execution_count": 35,
   "metadata": {},
   "outputs": [],
   "source": [
    "octaves_df['notes'] = [\n",
    "    'S',\n",
    "    'r1', 'r2',\n",
    "    'R1', 'R2',\n",
    "    'g1', 'g2',\n",
    "    'G1', 'G2',\n",
    "    'M1', 'M2',\n",
    "    'm1', 'm2',\n",
    "    'P',\n",
    "    'd1', 'd2',\n",
    "    'D1', 'D2',\n",
    "    'n1', 'n2',\n",
    "    'N1', 'N2',\n",
    "]"
   ]
  },
  {
   "cell_type": "code",
   "execution_count": 36,
   "metadata": {},
   "outputs": [],
   "source": [
    "cents_df = octaves_df.set_index('cents')"
   ]
  },
  {
   "cell_type": "code",
   "execution_count": 37,
   "metadata": {},
   "outputs": [],
   "source": [
    "swar_samvad_df = (\n",
    "    notes_df.sort_index()\n",
    "            .merge(cents_df, how = 'left', left_on = 'cents', right_index = True)\n",
    "            .pivot(index = 'rows', columns = 'columns', values = 'notes')\n",
    ").loc[[f'R_{idx + 1}' for idx in range(5)], [f'C_{idx + 1}' for idx in range(10)]]"
   ]
  },
  {
   "cell_type": "code",
   "execution_count": 38,
   "metadata": {},
   "outputs": [
    {
     "data": {
      "text/html": [
       "<div>\n",
       "<style scoped>\n",
       "    .dataframe tbody tr th:only-of-type {\n",
       "        vertical-align: middle;\n",
       "    }\n",
       "\n",
       "    .dataframe tbody tr th {\n",
       "        vertical-align: top;\n",
       "    }\n",
       "\n",
       "    .dataframe thead th {\n",
       "        text-align: right;\n",
       "    }\n",
       "</style>\n",
       "<table border=\"1\" class=\"dataframe\">\n",
       "  <thead>\n",
       "    <tr style=\"text-align: right;\">\n",
       "      <th>columns</th>\n",
       "      <th>C_1</th>\n",
       "      <th>C_2</th>\n",
       "      <th>C_3</th>\n",
       "      <th>C_4</th>\n",
       "      <th>C_5</th>\n",
       "      <th>C_6</th>\n",
       "      <th>C_7</th>\n",
       "      <th>C_8</th>\n",
       "      <th>C_9</th>\n",
       "      <th>C_10</th>\n",
       "    </tr>\n",
       "    <tr>\n",
       "      <th>rows</th>\n",
       "      <th></th>\n",
       "      <th></th>\n",
       "      <th></th>\n",
       "      <th></th>\n",
       "      <th></th>\n",
       "      <th></th>\n",
       "      <th></th>\n",
       "      <th></th>\n",
       "      <th></th>\n",
       "      <th></th>\n",
       "    </tr>\n",
       "  </thead>\n",
       "  <tbody>\n",
       "    <tr>\n",
       "      <td>R_1</td>\n",
       "      <td>NaN</td>\n",
       "      <td>NaN</td>\n",
       "      <td>M2</td>\n",
       "      <td>D2</td>\n",
       "      <td>r1</td>\n",
       "      <td>NaN</td>\n",
       "      <td>NaN</td>\n",
       "      <td>NaN</td>\n",
       "      <td>NaN</td>\n",
       "      <td>NaN</td>\n",
       "    </tr>\n",
       "    <tr>\n",
       "      <td>R_2</td>\n",
       "      <td>NaN</td>\n",
       "      <td>NaN</td>\n",
       "      <td>n2</td>\n",
       "      <td>R2</td>\n",
       "      <td>m1</td>\n",
       "      <td>n1</td>\n",
       "      <td>R1</td>\n",
       "      <td>NaN</td>\n",
       "      <td>NaN</td>\n",
       "      <td>NaN</td>\n",
       "    </tr>\n",
       "    <tr>\n",
       "      <td>R_3</td>\n",
       "      <td>NaN</td>\n",
       "      <td>NaN</td>\n",
       "      <td>g2</td>\n",
       "      <td>P</td>\n",
       "      <td>N1</td>\n",
       "      <td>g1</td>\n",
       "      <td>NaN</td>\n",
       "      <td>NaN</td>\n",
       "      <td>NaN</td>\n",
       "      <td>m2</td>\n",
       "    </tr>\n",
       "    <tr>\n",
       "      <td>R_4</td>\n",
       "      <td>NaN</td>\n",
       "      <td>NaN</td>\n",
       "      <td>d2</td>\n",
       "      <td>S</td>\n",
       "      <td>G1</td>\n",
       "      <td>d1</td>\n",
       "      <td>NaN</td>\n",
       "      <td>NaN</td>\n",
       "      <td>NaN</td>\n",
       "      <td>N2</td>\n",
       "    </tr>\n",
       "    <tr>\n",
       "      <td>R_5</td>\n",
       "      <td>NaN</td>\n",
       "      <td>NaN</td>\n",
       "      <td>r2</td>\n",
       "      <td>M1</td>\n",
       "      <td>D1</td>\n",
       "      <td>NaN</td>\n",
       "      <td>NaN</td>\n",
       "      <td>NaN</td>\n",
       "      <td>NaN</td>\n",
       "      <td>G2</td>\n",
       "    </tr>\n",
       "  </tbody>\n",
       "</table>\n",
       "</div>"
      ],
      "text/plain": [
       "columns  C_1  C_2 C_3 C_4 C_5  C_6  C_7  C_8  C_9 C_10\n",
       "rows                                                  \n",
       "R_1      NaN  NaN  M2  D2  r1  NaN  NaN  NaN  NaN  NaN\n",
       "R_2      NaN  NaN  n2  R2  m1   n1   R1  NaN  NaN  NaN\n",
       "R_3      NaN  NaN  g2   P  N1   g1  NaN  NaN  NaN   m2\n",
       "R_4      NaN  NaN  d2   S  G1   d1  NaN  NaN  NaN   N2\n",
       "R_5      NaN  NaN  r2  M1  D1  NaN  NaN  NaN  NaN   G2"
      ]
     },
     "execution_count": 38,
     "metadata": {},
     "output_type": "execute_result"
    }
   ],
   "source": [
    "swar_samvad_df"
   ]
  },
  {
   "cell_type": "code",
   "execution_count": 39,
   "metadata": {},
   "outputs": [],
   "source": [
    "three_octaves_df = pd.concat([\n",
    "    pd.DataFrame({\n",
    "        'notes': 'l_' + octaves_df['notes'],\n",
    "        'cents': -1200 + octaves_df['cents']\n",
    "    }),\n",
    "    pd.DataFrame({\n",
    "        'notes': octaves_df['notes'],\n",
    "        'cents': octaves_df['cents']\n",
    "    }),\n",
    "    pd.DataFrame({\n",
    "        'notes': 'u_' + octaves_df['notes'],\n",
    "        'cents': 1200 + octaves_df['cents']\n",
    "    }),\n",
    "], ignore_index = True)"
   ]
  },
  {
   "cell_type": "code",
   "execution_count": 40,
   "metadata": {},
   "outputs": [],
   "source": [
    "three_octaves_df.eval('freq = @BASE_FREQ * 2 ** (cents/1200)', inplace = True)"
   ]
  },
  {
   "cell_type": "code",
   "execution_count": 41,
   "metadata": {},
   "outputs": [],
   "source": [
    "beats_df = pd.DataFrame({'n': np.arange(44100 * 10)})"
   ]
  },
  {
   "cell_type": "code",
   "execution_count": 42,
   "metadata": {},
   "outputs": [],
   "source": [
    "beats_df.eval('t = n/44100', inplace = True)\n",
    "beats_df.eval('beats = @TEMPO * t / 60', inplace = True)"
   ]
  },
  {
   "cell_type": "code",
   "execution_count": 43,
   "metadata": {},
   "outputs": [],
   "source": [
    " timbre_df = pd.concat([\n",
    "     (\n",
    "         beats_df.query(f'beats < {(n + 1) / 2}')\n",
    "                  .eval(f'A = 3 * (beats / {(n + 1) / 2}) * exp( -9 * (beats / {(n + 1) / 2})**2)')\n",
    "                  .eval(f'half_beats = {n + 1}')\n",
    "     ) for n in range(8)\n",
    " ], ignore_index = True)"
   ]
  },
  {
   "cell_type": "code",
   "execution_count": 44,
   "metadata": {},
   "outputs": [],
   "source": [
    "for freq, notes in three_octaves_df[['freq', 'notes']].values:\n",
    "    timbre_df.eval(f'{notes} = A * sin(2 * @PI * {freq} * t)', inplace = True)"
   ]
  },
  {
   "cell_type": "code",
   "execution_count": 45,
   "metadata": {},
   "outputs": [],
   "source": [
    "timbre_df.eval('rest = 0', inplace = True)"
   ]
  },
  {
   "cell_type": "code",
   "execution_count": 46,
   "metadata": {},
   "outputs": [],
   "source": [
    "compose_df = pd.read_csv('compose.csv')"
   ]
  },
  {
   "cell_type": "code",
   "execution_count": 47,
   "metadata": {},
   "outputs": [],
   "source": [
    "track_df = pd.DataFrame({\n",
    "    'y': pd.concat([\n",
    "        timbre_df.query('half_beats == @b')[f'{n}'] \n",
    "        for _, (b, n) in compose_df[['half_beats', 'notes']].iterrows()\n",
    "    ], ignore_index = True)\n",
    "})"
   ]
  },
  {
   "cell_type": "code",
   "execution_count": 48,
   "metadata": {},
   "outputs": [],
   "source": [
    "track_df = (track_df - track_df.min())/(track_df.max() - track_df.min())"
   ]
  },
  {
   "cell_type": "code",
   "execution_count": 49,
   "metadata": {},
   "outputs": [],
   "source": [
    "track_df = ((2**16 - 1) * track_df + 0.5).apply(np.floor)"
   ]
  },
  {
   "cell_type": "code",
   "execution_count": 50,
   "metadata": {},
   "outputs": [],
   "source": [
    "with open('music.raw', 'wb') as wf:\n",
    "    wf.write(bytearray(np.uint16(track_df.values)))"
   ]
  },
  {
   "cell_type": "code",
   "execution_count": 51,
   "metadata": {},
   "outputs": [],
   "source": [
    "!rm music.mp3 "
   ]
  },
  {
   "cell_type": "code",
   "execution_count": 52,
   "metadata": {},
   "outputs": [
    {
     "name": "stdout",
     "output_type": "stream",
     "text": [
      "ffmpeg version 3.4.8-0ubuntu0.2 Copyright (c) 2000-2020 the FFmpeg developers\n",
      "  built with gcc 7 (Ubuntu 7.5.0-3ubuntu1~18.04)\n",
      "  configuration: --prefix=/usr --extra-version=0ubuntu0.2 --toolchain=hardened --libdir=/usr/lib/x86_64-linux-gnu --incdir=/usr/include/x86_64-linux-gnu --enable-gpl --disable-stripping --enable-avresample --enable-avisynth --enable-gnutls --enable-ladspa --enable-libass --enable-libbluray --enable-libbs2b --enable-libcaca --enable-libcdio --enable-libflite --enable-libfontconfig --enable-libfreetype --enable-libfribidi --enable-libgme --enable-libgsm --enable-libmp3lame --enable-libmysofa --enable-libopenjpeg --enable-libopenmpt --enable-libopus --enable-libpulse --enable-librubberband --enable-librsvg --enable-libshine --enable-libsnappy --enable-libsoxr --enable-libspeex --enable-libssh --enable-libtheora --enable-libtwolame --enable-libvorbis --enable-libvpx --enable-libwavpack --enable-libwebp --enable-libx265 --enable-libxml2 --enable-libxvid --enable-libzmq --enable-libzvbi --enable-omx --enable-openal --enable-opengl --enable-sdl2 --enable-libdc1394 --enable-libdrm --enable-libiec61883 --enable-chromaprint --enable-frei0r --enable-libopencv --enable-libx264 --enable-shared\n",
      "  libavutil      55. 78.100 / 55. 78.100\n",
      "  libavcodec     57.107.100 / 57.107.100\n",
      "  libavformat    57. 83.100 / 57. 83.100\n",
      "  libavdevice    57. 10.100 / 57. 10.100\n",
      "  libavfilter     6.107.100 /  6.107.100\n",
      "  libavresample   3.  7.  0 /  3.  7.  0\n",
      "  libswscale      4.  8.100 /  4.  8.100\n",
      "  libswresample   2.  9.100 /  2.  9.100\n",
      "  libpostproc    54.  7.100 / 54.  7.100\n",
      "\u001b[0;35m[u16le @ 0x5596449608e0] \u001b[0m\u001b[0;33mEstimating duration from bitrate, this may be inaccurate\n",
      "\u001b[0m\u001b[0;33mGuessed Channel Layout for Input Stream #0.0 : mono\n",
      "\u001b[0mInput #0, u16le, from 'music.raw':\n",
      "  Duration: 00:00:04.25, bitrate: 705 kb/s\n",
      "    Stream #0:0: Audio: pcm_u16le, 44100 Hz, mono, s16, 705 kb/s\n",
      "Stream mapping:\n",
      "  Stream #0:0 -> #0:0 (pcm_u16le (native) -> mp3 (libmp3lame))\n",
      "Press [q] to stop, [?] for help\n",
      "Output #0, mp3, to 'music.mp3':\n",
      "  Metadata:\n",
      "    TSSE            : Lavf57.83.100\n",
      "    Stream #0:0: Audio: mp3 (libmp3lame), 44100 Hz, mono, s16p\n",
      "    Metadata:\n",
      "      encoder         : Lavc57.107.100 libmp3lame\n",
      "size=      34kB time=00:00:04.25 bitrate=  64.8kbits/s speed=88.6x    \n",
      "video:0kB audio:33kB subtitle:0kB other streams:0kB global headers:0kB muxing overhead: 0.662348%\n"
     ]
    }
   ],
   "source": [
    "!ffmpeg -f u16le -ar 44100 -ac 1 -i music.raw music.mp3"
   ]
  }
 ],
 "metadata": {
  "kernelspec": {
   "display_name": "Python 3",
   "language": "python",
   "name": "python3"
  },
  "language_info": {
   "codemirror_mode": {
    "name": "ipython",
    "version": 3
   },
   "file_extension": ".py",
   "mimetype": "text/x-python",
   "name": "python",
   "nbconvert_exporter": "python",
   "pygments_lexer": "ipython3",
   "version": "3.7.4"
  }
 },
 "nbformat": 4,
 "nbformat_minor": 2
}
